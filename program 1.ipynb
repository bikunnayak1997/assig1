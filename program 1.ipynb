{
 "cells": [
  {
   "cell_type": "code",
   "execution_count": 3,
   "id": "0ce7a51a-c3a6-4e79-b094-56180b329da8",
   "metadata": {},
   "outputs": [
    {
     "name": "stdout",
     "output_type": "stream",
     "text": [
      "Hello python\n"
     ]
    }
   ],
   "source": [
    "#1.\tWrite a Python program to print \"Hello Python\"\n",
    "\n",
    "\n",
    "print(\"Hello python\")"
   ]
  },
  {
   "cell_type": "code",
   "execution_count": 10,
   "id": "62cf1e31-6c8d-4ff0-8be3-7dcf98bda6f9",
   "metadata": {},
   "outputs": [
    {
     "name": "stdout",
     "output_type": "stream",
     "text": [
      "13\n",
      "0.625\n"
     ]
    }
   ],
   "source": [
    "#2.\tWrite a Python program to do arithmetical operations addition and division.\n",
    "\n",
    "\n",
    "a=5\n",
    "b=8\n",
    "add = a + b\n",
    "div = a/b\n",
    "print(sum)\n",
    "print(div)"
   ]
  },
  {
   "cell_type": "code",
   "execution_count": 15,
   "id": "29c130d9-0150-40f6-a0a3-d5a06bb6bde3",
   "metadata": {},
   "outputs": [
    {
     "name": "stdin",
     "output_type": "stream",
     "text": [
      "enter a value 15\n",
      "enter a value  13\n"
     ]
    },
    {
     "name": "stdout",
     "output_type": "stream",
     "text": [
      "28\n",
      "1.1538461538461537\n"
     ]
    }
   ],
   "source": [
    "a = int(input(\"enter a value\"))\n",
    "b= int(input(\"enter a value \"))\n",
    "add = a+b\n",
    "div = a/b\n",
    "print(add)\n",
    "print(div)"
   ]
  },
  {
   "cell_type": "code",
   "execution_count": 18,
   "id": "1ec1604d-bc05-4af7-907f-db7312b1da09",
   "metadata": {},
   "outputs": [
    {
     "name": "stdin",
     "output_type": "stream",
     "text": [
      "enter a num 15\n",
      "enter a num 15\n"
     ]
    },
    {
     "name": "stdout",
     "output_type": "stream",
     "text": [
      "112.5\n"
     ]
    }
   ],
   "source": [
    "#3.\tWrite a Python program to find the area of a triangle\n",
    "base = int(input(\"enter a num\"))\n",
    "height= int(input(\"enter a num\"))\n",
    "\n",
    "area = base * height/2\n",
    "print(area)\n"
   ]
  },
  {
   "cell_type": "code",
   "execution_count": 27,
   "id": "0ecb5e21-d14f-4e23-9dfc-4787657950b2",
   "metadata": {},
   "outputs": [
    {
     "name": "stdout",
     "output_type": "stream",
     "text": [
      "after swaping of x 15\n",
      "after swaping of y 10\n"
     ]
    }
   ],
   "source": [
    "#4.\tWrite a Python program to swap two variables\n",
    "x = 10\n",
    "y = 15\n",
    "\n",
    "x,y = y,x\n",
    "\n",
    "print(\"after swaping of x\",x)\n",
    "print(\"after swaping of y\",y)\n"
   ]
  },
  {
   "cell_type": "code",
   "execution_count": 28,
   "id": "1ef8c2f8-39a4-4f2d-8bf8-d9686cc21fd6",
   "metadata": {},
   "outputs": [
    {
     "name": "stdout",
     "output_type": "stream",
     "text": [
      "0.6010080948073361\n"
     ]
    }
   ],
   "source": [
    "# 5.Write a Python program to generate a random number?\n",
    "\n",
    "import random\n",
    "num = random.random()\n",
    "print(num)"
   ]
  }
 ],
 "metadata": {
  "kernelspec": {
   "display_name": "Python 3 (ipykernel)",
   "language": "python",
   "name": "python3"
  },
  "language_info": {
   "codemirror_mode": {
    "name": "ipython",
    "version": 3
   },
   "file_extension": ".py",
   "mimetype": "text/x-python",
   "name": "python",
   "nbconvert_exporter": "python",
   "pygments_lexer": "ipython3",
   "version": "3.10.6"
  }
 },
 "nbformat": 4,
 "nbformat_minor": 5
}
