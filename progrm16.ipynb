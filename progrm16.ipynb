{
 "cells": [
  {
   "cell_type": "markdown",
   "id": "25000b5e-793e-471c-a548-2f1ae725c84f",
   "metadata": {},
   "source": [
    "Question1. Write a function that stutters a word as if someone is struggling to read it. The first two letters are repeated twice with an ellipsis ... and space after each, and then the word is pronounced with a question mark ?.\n",
    "Examples\n",
    "stutter(\"incredible\") ➞ \"in... in... incredible?\"\n",
    "\n",
    "stutter(\"enthusiastic\") ➞ \"en... en... enthusiastic?\"\n",
    "\n",
    "stutter(\"outstanding\") ➞ \"ou... ou... outstanding?\"\n",
    "\n",
    "Hint :- Assume all input is in lower case and at least two characters long.\n",
    "\n",
    "Question 2.Create a function that takes an angle in radians and returns the corresponding angle in degrees rounded to one decimal place.\n",
    "Examples\n",
    "radians_to_degrees(1) ➞ 57.3\n",
    "\n",
    "radians_to_degrees(20) ➞ 1145.9\n",
    "\n",
    "radians_to_degrees(50) ➞ 2864.8\n",
    "\n",
    "\n",
    "Question 3. In this challenge, establish if a given integer num is a Curzon number. If 1 plus 2 elevated to num is exactly divisible by 1 plus 2 multiplied by num, then num is a Curzon number.\n",
    "Given a non-negative integer num, implement a function that returns True if num is a Curzon number, or False otherwise.\n",
    "Examples\n",
    "is_curzon(5) ➞ True\n",
    "# 2 ** 5 + 1 = 33\n",
    "# 2 * 5 + 1 = 11\n",
    "# 33 is a multiple of 11\n",
    "\n",
    "is_curzon(10) ➞ False\n",
    "# 2 ** 10 + 1 = 1025\n",
    "# 2 * 10 + 1 = 21\n",
    "# 1025 is not a multiple of 21\n",
    "\n",
    "is_curzon(14) ➞ True\n",
    "# 2 ** 14 + 1 = 16385\n",
    "# 2 * 14 + 1 = 29\n",
    "# 16385 is a multiple of 29\n",
    "\n",
    "Question 4.Given the side length x find the area of a hexagon.\n",
    " \n",
    "Examples\n",
    "area_of_hexagon(1) ➞ 2.6\n",
    "\n",
    "area_of_hexagon(2) ➞ 10.4\n",
    "\n",
    "area_of_hexagon(3) ➞ 23.4\n",
    "\n",
    "\n",
    "\n",
    "Question 5. Create a function that returns a base-2 (binary) representation of a base-10 (decimal) string number. To convert is simple: ((2) means base-2 and (10) means base-10) 010101001(2) = 1 + 8 + 32 + 128.\n",
    "Going from right to left, the value of the most right bit is 1, now from that every bit to the left will be x2 the value, value of an 8 bit binary numbers are (256, 128, 64, 32, 16, 8, 4, 2, 1).\n",
    "Examples\n",
    "binary(1) ➞ \"1\"\n",
    "# 1*1 = 1\n",
    "\n",
    "binary(5) ➞ \"101\"\n",
    "# 1*1 + 1*4 = 5\n",
    "\n",
    "binary(10) ➞ \"1010\"\n",
    "# 1*2 + 1*8 = 10\n",
    "\n",
    "\n",
    "\n",
    "\n"
   ]
  },
  {
   "cell_type": "code",
   "execution_count": 3,
   "id": "693b18d5-384d-44f5-9d57-df42c129655e",
   "metadata": {},
   "outputs": [
    {
     "name": "stdin",
     "output_type": "stream",
     "text": [
      "enter a word mynameisbikun\n"
     ]
    },
    {
     "name": "stdout",
     "output_type": "stream",
     "text": [
      "my... my... mynameisbikun?\n"
     ]
    }
   ],
   "source": [
    "def stutter_word(word):\n",
    "    \"\"\"\n",
    "    Stutter a word by repeating the first two letters with ellipsis and adding a question mark at the end.\n",
    "    \"\"\"\n",
    "    stuttered_word = word[:2] + \"... \" + word[:2] + \"... \" + word + \"?\"\n",
    "    return stuttered_word\n",
    "\n",
    "# Example usage\n",
    "word = input(\"enter a word\")\n",
    "stuttered = stutter_word(word)\n",
    "print(stuttered)  "
   ]
  },
  {
   "cell_type": "code",
   "execution_count": 7,
   "id": "2603e1ac-f645-4787-80b0-634264fc18ca",
   "metadata": {},
   "outputs": [
    {
     "name": "stdin",
     "output_type": "stream",
     "text": [
      "enter a number 5.6\n"
     ]
    },
    {
     "name": "stdout",
     "output_type": "stream",
     "text": [
      "320.9\n"
     ]
    }
   ],
   "source": [
    "import math\n",
    "\n",
    "def radians_to_degrees(angle_in_radians):\n",
    "    \"\"\"\n",
    "    Convert an angle in radians to degrees and round it to one decimal place.\n",
    "    \"\"\"\n",
    "    angle_in_degrees = math.degrees(angle_in_radians)\n",
    "    rounded_angle = round(angle_in_degrees, 1)\n",
    "    return rounded_angle\n",
    "\n",
    "# Example usage\n",
    "angle_radians =float(input(\"enter a number\"))\n",
    "angle_degrees = radians_to_degrees(angle_radians)\n",
    "print(angle_degrees) \n"
   ]
  },
  {
   "cell_type": "code",
   "execution_count": 11,
   "id": "5ae782a2-498e-4dd5-95ae-6fd37b5710fd",
   "metadata": {},
   "outputs": [
    {
     "name": "stdin",
     "output_type": "stream",
     "text": [
      "enter  number 5\n"
     ]
    },
    {
     "name": "stdout",
     "output_type": "stream",
     "text": [
      "True\n"
     ]
    }
   ],
   "source": [
    "def is_curzon_number(num):\n",
    "    \"\"\"\n",
    "    Check if a given integer is a Curzon number.\n",
    "    \"\"\"\n",
    "    numerator = 2**num + 1\n",
    "    denominator = 2*num + 1\n",
    "\n",
    "    return numerator % denominator == 0\n",
    "\n",
    "# Example usage\n",
    "num = int(input(\"enter  number\"))\n",
    "is_curzon = is_curzon_number(num)\n",
    "print(is_curzon) "
   ]
  },
  {
   "cell_type": "code",
   "execution_count": 13,
   "id": "3a23dbd1-318f-4df2-8c78-029fadeafe16",
   "metadata": {},
   "outputs": [
    {
     "name": "stdout",
     "output_type": "stream",
     "text": [
      "64.9519052838329\n"
     ]
    }
   ],
   "source": [
    "import math\n",
    "\n",
    "def calculate_hexagon_area(side_length):\n",
    "    \"\"\"\n",
    "    Calculate the area of a hexagon given the side length.\n",
    "    \"\"\"\n",
    "    area = (3 * math.sqrt(3) * side_length**2) / 2\n",
    "    return area\n",
    "\n",
    "# Example usage\n",
    "side_length = 5\n",
    "hexagon_area = calculate_hexagon_area(side_length)\n",
    "print(hexagon_area)\n"
   ]
  },
  {
   "cell_type": "code",
   "execution_count": 17,
   "id": "94184f97-29e9-4ca8-9875-2fba89a483ea",
   "metadata": {},
   "outputs": [
    {
     "name": "stdin",
     "output_type": "stream",
     "text": [
      "enetr number 102\n"
     ]
    },
    {
     "name": "stdout",
     "output_type": "stream",
     "text": [
      "1100110\n"
     ]
    }
   ],
   "source": [
    "def decimal_to_binary(decimal_num):\n",
    "    \"\"\"\n",
    "    Convert a base-10 (decimal) string number to its base-2 (binary) representation.\n",
    "    \"\"\"\n",
    "    decimal_num = int(decimal_num)\n",
    "    binary_num = \"\"\n",
    "    \n",
    "    while decimal_num > 0:\n",
    "        binary_num = str(decimal_num % 2) + binary_num\n",
    "        decimal_num //= 2\n",
    "    \n",
    "    return binary_num\n",
    "\n",
    "# Example usage\n",
    "decimal_number =int(input(\"enetr number\"))\n",
    "binary_number = decimal_to_binary(decimal_number)\n",
    "print(binary_number)  "
   ]
  }
 ],
 "metadata": {
  "kernelspec": {
   "display_name": "Python 3 (ipykernel)",
   "language": "python",
   "name": "python3"
  },
  "language_info": {
   "codemirror_mode": {
    "name": "ipython",
    "version": 3
   },
   "file_extension": ".py",
   "mimetype": "text/x-python",
   "name": "python",
   "nbconvert_exporter": "python",
   "pygments_lexer": "ipython3",
   "version": "3.10.6"
  }
 },
 "nbformat": 4,
 "nbformat_minor": 5
}
