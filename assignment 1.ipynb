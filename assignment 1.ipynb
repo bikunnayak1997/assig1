{
 "cells": [
  {
   "cell_type": "code",
   "execution_count": 3,
   "id": "4e8206df-e613-4156-937c-67ce69986f0a",
   "metadata": {},
   "outputs": [
    {
     "name": "stdout",
     "output_type": "stream",
     "text": [
      "hello\n"
     ]
    }
   ],
   "source": [
    "print('hello')"
   ]
  },
  {
   "cell_type": "code",
   "execution_count": 9,
   "id": "7a9fba27-976c-4de1-bdd5-75482ae3db54",
   "metadata": {},
   "outputs": [],
   "source": [
    "a= 'hello'"
   ]
  },
  {
   "cell_type": "code",
   "execution_count": 10,
   "id": "3d629ad6-ea73-40e1-9af1-8a992189e7e6",
   "metadata": {},
   "outputs": [
    {
     "data": {
      "text/plain": [
       "str"
      ]
     },
     "execution_count": 10,
     "metadata": {},
     "output_type": "execute_result"
    }
   ],
   "source": [
    "type(a)"
   ]
  },
  {
   "cell_type": "code",
   "execution_count": 5,
   "id": "b4d0d439-a5f5-4c6d-8879-9f96668e3c42",
   "metadata": {},
   "outputs": [
    {
     "name": "stdout",
     "output_type": "stream",
     "text": [
      "hello\n"
     ]
    },
    {
     "data": {
      "text/plain": [
       "NoneType"
      ]
     },
     "execution_count": 5,
     "metadata": {},
     "output_type": "execute_result"
    }
   ],
   "source": [
    "type(print('hello'))"
   ]
  },
  {
   "cell_type": "code",
   "execution_count": 7,
   "id": "7d0c0bab-a842-44af-b116-3b3e170d5a44",
   "metadata": {},
   "outputs": [],
   "source": [
    "a = -87.8"
   ]
  },
  {
   "cell_type": "code",
   "execution_count": 18,
   "id": "c599fc86-d186-4ab2-84d9-b0d2f85d5f7b",
   "metadata": {},
   "outputs": [],
   "source": [
    "value = -87.8"
   ]
  },
  {
   "cell_type": "code",
   "execution_count": 19,
   "id": "009ce9fc-cbe9-46fa-babe-0fb0a8211ac7",
   "metadata": {},
   "outputs": [
    {
     "data": {
      "text/plain": [
       "-87.8"
      ]
     },
     "execution_count": 19,
     "metadata": {},
     "output_type": "execute_result"
    }
   ],
   "source": [
    "value"
   ]
  },
  {
   "cell_type": "code",
   "execution_count": 8,
   "id": "3c48ca8e-77a0-40c0-85a8-2f131bc01b37",
   "metadata": {},
   "outputs": [
    {
     "data": {
      "text/plain": [
       "float"
      ]
     },
     "execution_count": 8,
     "metadata": {},
     "output_type": "execute_result"
    }
   ],
   "source": [
    "type(a)"
   ]
  },
  {
   "cell_type": "code",
   "execution_count": 14,
   "id": "e27c636c-733b-4e7a-8798-f9e246ab9628",
   "metadata": {},
   "outputs": [
    {
     "name": "stdout",
     "output_type": "stream",
     "text": [
      "0.7142857142857143\n"
     ]
    }
   ],
   "source": [
    "a=5\n",
    "b=7\n",
    "c=a/b\n",
    "print(c)"
   ]
  },
  {
   "cell_type": "code",
   "execution_count": 15,
   "id": "1a45091e-f8af-44f6-bd1e-3e60327f31e4",
   "metadata": {},
   "outputs": [
    {
     "data": {
      "text/plain": [
       "float"
      ]
     },
     "execution_count": 15,
     "metadata": {},
     "output_type": "execute_result"
    }
   ],
   "source": [
    "type(c)"
   ]
  },
  {
   "cell_type": "code",
   "execution_count": null,
   "id": "6322128a-7b4d-4b28-9bd6-912905f7c155",
   "metadata": {},
   "outputs": [],
   "source": [
    "#1. In the below elements which of them are values or an expression? eg:- values can be integer or string and expressions will be mathematical operators."
   ]
  },
  {
   "cell_type": "code",
   "execution_count": 20,
   "id": "54c52573-3479-4ca7-8966-0b69818a425f",
   "metadata": {},
   "outputs": [],
   "source": [
    "# * mathematical operator(multiple - 5*6)   \n",
    "\n",
    "# 'hello' it is a string type \n",
    "\n",
    "# -87.8 it show the float type value \n",
    "\n",
    "# - mathematical operator(substract - 5-2)\n",
    "\n",
    "# /  mathematical opertor(divdid-5/7)\n",
    "\n",
    "# + mathematical opertor(addition)\n",
    "\n",
    "# 6 its a value and interger type \n"
   ]
  },
  {
   "cell_type": "code",
   "execution_count": 9,
   "id": "6b90b476-fb29-44ce-9945-03140f2bc0d8",
   "metadata": {},
   "outputs": [],
   "source": [
    "a = 5<3"
   ]
  },
  {
   "cell_type": "code",
   "execution_count": 11,
   "id": "bf374df9-94bc-4bf3-b70e-69e7cab4c0d5",
   "metadata": {},
   "outputs": [
    {
     "name": "stdout",
     "output_type": "stream",
     "text": [
      "False\n"
     ]
    }
   ],
   "source": [
    "print(a)"
   ]
  },
  {
   "cell_type": "code",
   "execution_count": 10,
   "id": "b4d7359e-9113-4343-b08a-f62717f5c98f",
   "metadata": {},
   "outputs": [
    {
     "data": {
      "text/plain": [
       "bool"
      ]
     },
     "execution_count": 10,
     "metadata": {},
     "output_type": "execute_result"
    }
   ],
   "source": [
    "type(a)"
   ]
  },
  {
   "cell_type": "code",
   "execution_count": 16,
   "id": "66d7c429-7bde-4ed6-805b-cdcd41be3ff0",
   "metadata": {},
   "outputs": [
    {
     "data": {
      "text/plain": [
       "'i have eaten99burritor'"
      ]
     },
     "execution_count": 16,
     "metadata": {},
     "output_type": "execute_result"
    }
   ],
   "source": [
    "'i have eaten'  +  '99'  + 'burritor'"
   ]
  },
  {
   "cell_type": "code",
   "execution_count": 20,
   "id": "5f7bc3f6-6f81-433b-93fe-83b1a15c262b",
   "metadata": {},
   "outputs": [
    {
     "ename": "TypeError",
     "evalue": "can only concatenate str (not \"int\") to str",
     "output_type": "error",
     "traceback": [
      "\u001b[0;31m---------------------------------------------------------------------------\u001b[0m",
      "\u001b[0;31mTypeError\u001b[0m                                 Traceback (most recent call last)",
      "Cell \u001b[0;32mIn [20], line 1\u001b[0m\n\u001b[0;32m----> 1\u001b[0m \u001b[38;5;124;43m'\u001b[39;49m\u001b[38;5;124;43mi have eaten\u001b[39;49m\u001b[38;5;124;43m'\u001b[39;49m\u001b[43m  \u001b[49m\u001b[38;5;241;43m+\u001b[39;49m\u001b[43m \u001b[49m\u001b[38;5;241;43m99\u001b[39;49m  \u001b[38;5;241m+\u001b[39m \u001b[38;5;124m'\u001b[39m\u001b[38;5;124mburritor\u001b[39m\u001b[38;5;124m'\u001b[39m\n",
      "\u001b[0;31mTypeError\u001b[0m: can only concatenate str (not \"int\") to str"
     ]
    }
   ],
   "source": [
    "'i have eaten'  + 99  + 'burritor'"
   ]
  },
  {
   "cell_type": "code",
   "execution_count": 17,
   "id": "cb2d5940-af77-46a7-b2e4-7eaefcc6ebb6",
   "metadata": {},
   "outputs": [
    {
     "data": {
      "text/plain": [
       "'spamspamspam'"
      ]
     },
     "execution_count": 17,
     "metadata": {},
     "output_type": "execute_result"
    }
   ],
   "source": [
    "'spam'*3"
   ]
  },
  {
   "cell_type": "code",
   "execution_count": 18,
   "id": "5fa82bfa-fb95-4d06-acf7-69322be157bd",
   "metadata": {},
   "outputs": [
    {
     "data": {
      "text/plain": [
       "'spamspamspam'"
      ]
     },
     "execution_count": 18,
     "metadata": {},
     "output_type": "execute_result"
    }
   ],
   "source": [
    "'spam' + 'spamspam'"
   ]
  },
  {
   "cell_type": "code",
   "execution_count": 19,
   "id": "371c6071-7d99-4eb6-8582-0c4572a297f6",
   "metadata": {},
   "outputs": [
    {
     "data": {
      "text/plain": [
       "9"
      ]
     },
     "execution_count": 19,
     "metadata": {},
     "output_type": "execute_result"
    }
   ],
   "source": [
    "3*3"
   ]
  },
  {
   "cell_type": "code",
   "execution_count": null,
   "id": "79a6d5d4-fc7b-4530-b507-3e90d354434d",
   "metadata": {},
   "outputs": [],
   "source": []
  },
  {
   "cell_type": "code",
   "execution_count": 21,
   "id": "9c9b02cf-e805-4ed9-bb15-dc85a4bb79f1",
   "metadata": {},
   "outputs": [],
   "source": [
    "balcon = 22"
   ]
  },
  {
   "cell_type": "code",
   "execution_count": 22,
   "id": "dc6491b5-4361-40a5-8bd0-cf31a7bff9f0",
   "metadata": {},
   "outputs": [
    {
     "data": {
      "text/plain": [
       "int"
      ]
     },
     "execution_count": 22,
     "metadata": {},
     "output_type": "execute_result"
    }
   ],
   "source": [
    "type(balcon)"
   ]
  },
  {
   "cell_type": "code",
   "execution_count": 23,
   "id": "c136548c-008c-460b-885d-f174634fce6a",
   "metadata": {},
   "outputs": [
    {
     "data": {
      "text/plain": [
       "23"
      ]
     },
     "execution_count": 23,
     "metadata": {},
     "output_type": "execute_result"
    }
   ],
   "source": [
    "balcon+1"
   ]
  },
  {
   "cell_type": "code",
   "execution_count": 24,
   "id": "331f23e8-45e2-4d5e-8bce-fe7c9d9e5fd1",
   "metadata": {},
   "outputs": [],
   "source": [
    "egg = 100"
   ]
  },
  {
   "cell_type": "code",
   "execution_count": 25,
   "id": "1490871d-9388-416f-8b63-8f1b0a667bb8",
   "metadata": {},
   "outputs": [
    {
     "data": {
      "text/plain": [
       "int"
      ]
     },
     "execution_count": 25,
     "metadata": {},
     "output_type": "execute_result"
    }
   ],
   "source": [
    "type(egg)"
   ]
  },
  {
   "cell_type": "code",
   "execution_count": 26,
   "id": "a1277e8c-0756-423f-9b3b-a0eedf4d2407",
   "metadata": {},
   "outputs": [
    {
     "name": "stdout",
     "output_type": "stream",
     "text": [
      "100\n"
     ]
    }
   ],
   "source": [
    "print(egg)"
   ]
  },
  {
   "cell_type": "code",
   "execution_count": 28,
   "id": "eecbdfbe-5e2a-44a2-99ab-8d3a19d641d6",
   "metadata": {},
   "outputs": [
    {
     "data": {
      "text/plain": [
       "False"
      ]
     },
     "execution_count": 28,
     "metadata": {},
     "output_type": "execute_result"
    }
   ],
   "source": [
    "100 == \"cdankj\""
   ]
  }
 ],
 "metadata": {
  "kernelspec": {
   "display_name": "Python 3 (ipykernel)",
   "language": "python",
   "name": "python3"
  },
  "language_info": {
   "codemirror_mode": {
    "name": "ipython",
    "version": 3
   },
   "file_extension": ".py",
   "mimetype": "text/x-python",
   "name": "python",
   "nbconvert_exporter": "python",
   "pygments_lexer": "ipython3",
   "version": "3.10.6"
  }
 },
 "nbformat": 4,
 "nbformat_minor": 5
}
