{
 "cells": [
  {
   "cell_type": "code",
   "execution_count": null,
   "id": "16752f31-8067-454a-9204-35bc787ef60f",
   "metadata": {},
   "outputs": [],
   "source": [
    "#1.\tWrite a Python Program to Check if a Number is Positive, Negative or Zero?\n",
    "#2.\tWrite a Python Program to Check if a Number is Odd or Even?\n",
    "#3.\tWrite a Python Program to Check Leap Year?\n",
    "#4.\tWrite a Python Program to Check Prime Number?\n",
    "#5.\tWrite a Python Program to Print all Prime Numbers in an Interval of 1-10000?\n"
   ]
  },
  {
   "cell_type": "code",
   "execution_count": 1,
   "id": "8c1ec7c5-3cf1-46a7-960c-49ed85e3ad5b",
   "metadata": {},
   "outputs": [
    {
     "name": "stdin",
     "output_type": "stream",
     "text": [
      "enter a number 5\n"
     ]
    },
    {
     "name": "stdout",
     "output_type": "stream",
     "text": [
      "positive number\n"
     ]
    }
   ],
   "source": [
    "num = float(input(\"enter a number\"))\n",
    "if num>=0:\n",
    "    if num == 0:\n",
    "        print(\"zero\")\n",
    "    else :\n",
    "        print(\"positive number\")\n",
    "else:\n",
    "    print(\"negative number\")"
   ]
  },
  {
   "cell_type": "code",
   "execution_count": 4,
   "id": "4f71e511-a45a-4610-addf-393f06fe019e",
   "metadata": {},
   "outputs": [
    {
     "name": "stdin",
     "output_type": "stream",
     "text": [
      "enter a number -5\n"
     ]
    },
    {
     "name": "stdout",
     "output_type": "stream",
     "text": [
      "negative number\n"
     ]
    }
   ],
   "source": [
    "num = int(input(\"enter a number\"))\n",
    "if num>=0:\n",
    "    if num == 0:\n",
    "        print(\"zero\")\n",
    "    else :\n",
    "        print(\"positive number\")\n",
    "else:\n",
    "    print(\"negative number\")"
   ]
  },
  {
   "cell_type": "code",
   "execution_count": 13,
   "id": "bd2d08f1-3e0a-4505-a85a-d5f71339edbd",
   "metadata": {},
   "outputs": [
    {
     "name": "stdin",
     "output_type": "stream",
     "text": [
      "enter a number:  15\n"
     ]
    },
    {
     "name": "stdout",
     "output_type": "stream",
     "text": [
      "odd number\n"
     ]
    }
   ],
   "source": [
    "num = int(input(\"enter a number: \"))\n",
    "if (num%2) == 0:\n",
    "    print(\"even number\")\n",
    "else:\n",
    "    print(\"odd number\")"
   ]
  },
  {
   "cell_type": "code",
   "execution_count": 14,
   "id": "2c18a535-1f40-456e-aa50-c680bd2264bb",
   "metadata": {},
   "outputs": [
    {
     "name": "stdin",
     "output_type": "stream",
     "text": [
      "Enter year :  2019\n"
     ]
    },
    {
     "name": "stdout",
     "output_type": "stream",
     "text": [
      "2019 is not a leap year.\n"
     ]
    }
   ],
   "source": [
    "year = int(input('Enter year : '))\n",
    " \n",
    "if (year%4 == 0 and year%100 != 0) or (year%400 == 0) :\n",
    "    print(year, \"is a leap year.\")\n",
    "else :\n",
    "    print(year, \"is not a leap year.\")"
   ]
  },
  {
   "cell_type": "code",
   "execution_count": 16,
   "id": "7a441f8c-39c3-4ac6-8764-f0094c9b4d25",
   "metadata": {},
   "outputs": [
    {
     "name": "stdin",
     "output_type": "stream",
     "text": [
      "enter a year :  2021\n"
     ]
    },
    {
     "name": "stdout",
     "output_type": "stream",
     "text": [
      "2021 not a leap year\n"
     ]
    }
   ],
   "source": [
    "year = int(input(\"enter a year : \"))\n",
    "if(year%4 == 0 and year%100 !=0):\n",
    "    print(year,\"leap year\")\n",
    "elif (year%400 == 0):\n",
    "    print(year,\" leap year\")\n",
    "else:\n",
    "    print(year,\"not a leap year\")"
   ]
  }
 ],
 "metadata": {
  "kernelspec": {
   "display_name": "Python 3 (ipykernel)",
   "language": "python",
   "name": "python3"
  },
  "language_info": {
   "codemirror_mode": {
    "name": "ipython",
    "version": 3
   },
   "file_extension": ".py",
   "mimetype": "text/x-python",
   "name": "python",
   "nbconvert_exporter": "python",
   "pygments_lexer": "ipython3",
   "version": "3.10.6"
  }
 },
 "nbformat": 4,
 "nbformat_minor": 5
}
