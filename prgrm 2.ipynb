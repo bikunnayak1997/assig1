{
 "cells": [
  {
   "cell_type": "code",
   "execution_count": 8,
   "id": "9297cb2e-22ef-4b67-a442-d75afe655883",
   "metadata": {},
   "outputs": [
    {
     "name": "stdin",
     "output_type": "stream",
     "text": [
      "enter a number 10\n"
     ]
    },
    {
     "name": "stdout",
     "output_type": "stream",
     "text": [
      "6.2137119\n"
     ]
    }
   ],
   "source": [
    "#1.\tWrite a Python program to convert kilometers to miles?\n",
    "\n",
    "length = float(input(\"enter a number\"))\n",
    "kilometers = 0.62137119\n",
    "miles = length * kilometers\n",
    "print(miles)\n",
    "\n",
    "\n"
   ]
  },
  {
   "cell_type": "code",
   "execution_count": 11,
   "id": "ca509039-7f21-4afe-a423-4a9cd4154f98",
   "metadata": {},
   "outputs": [
    {
     "name": "stdin",
     "output_type": "stream",
     "text": [
      "enter value 100\n"
     ]
    },
    {
     "name": "stdout",
     "output_type": "stream",
     "text": [
      "212.0\n"
     ]
    }
   ],
   "source": [
    "#.\tWrite a Python program to convert Celsius to Fahrenheit?\n",
    "\n",
    "celsius = float(input(\"enter value\"))\n",
    "fahrenheit = (celsius * 1.8 ) + 32\n",
    "print(fahrenheit)\n"
   ]
  },
  {
   "cell_type": "code",
   "execution_count": 1,
   "id": "9ef1c0bc-d13d-4d94-9c95-1b72dc42732b",
   "metadata": {},
   "outputs": [
    {
     "name": "stdin",
     "output_type": "stream",
     "text": [
      "input year:  2019\n",
      "input month:  11\n"
     ]
    },
    {
     "name": "stdout",
     "output_type": "stream",
     "text": [
      "   November 2019\n",
      "Mo Tu We Th Fr Sa Su\n",
      "             1  2  3\n",
      " 4  5  6  7  8  9 10\n",
      "11 12 13 14 15 16 17\n",
      "18 19 20 21 22 23 24\n",
      "25 26 27 28 29 30\n",
      "\n"
     ]
    }
   ],
   "source": [
    "#3.\tWrite a Python program to display calendar?\n",
    "\n",
    "import calendar\n",
    "\n",
    "yy = int(input(\"input year: \"))\n",
    "mm = int(input(\"input month: \"))\n",
    "print(calendar.month(yy ,mm ))\n"
   ]
  },
  {
   "cell_type": "code",
   "execution_count": 3,
   "id": "c40e7b6a-da0f-4cd2-9288-62a3d2372eb0",
   "metadata": {},
   "outputs": [
    {
     "name": "stdin",
     "output_type": "stream",
     "text": [
      "enter a number 5\n",
      "enter a number 6\n",
      "enter a number 5\n"
     ]
    },
    {
     "ename": "TypeError",
     "evalue": "bad operand type for unary -: 'str'",
     "output_type": "error",
     "traceback": [
      "\u001b[0;31m---------------------------------------------------------------------------\u001b[0m",
      "\u001b[0;31mTypeError\u001b[0m                                 Traceback (most recent call last)",
      "Cell \u001b[0;32mIn [3], line 7\u001b[0m\n\u001b[1;32m      4\u001b[0m b\u001b[38;5;241m=\u001b[39m\u001b[38;5;28minput\u001b[39m(\u001b[38;5;124m\"\u001b[39m\u001b[38;5;124menter a number\u001b[39m\u001b[38;5;124m\"\u001b[39m)\n\u001b[1;32m      5\u001b[0m c\u001b[38;5;241m=\u001b[39m\u001b[38;5;28minput\u001b[39m(\u001b[38;5;124m\"\u001b[39m\u001b[38;5;124menter a number\u001b[39m\u001b[38;5;124m\"\u001b[39m)\n\u001b[0;32m----> 7\u001b[0m a \u001b[38;5;241m=\u001b[39m \u001b[38;5;241;43m-\u001b[39;49m\u001b[43mb\u001b[49m\u001b[38;5;241m/\u001b[39ma\n\u001b[1;32m      8\u001b[0m b \u001b[38;5;241m=\u001b[39m c\u001b[38;5;241m/\u001b[39ma\n\u001b[1;32m     10\u001b[0m \u001b[38;5;28mprint\u001b[39m(a,b)\n",
      "\u001b[0;31mTypeError\u001b[0m: bad operand type for unary -: 'str'"
     ]
    }
   ],
   "source": [
    "#.4.Write a Python program to solve quadratic equation?\n",
    "#import math\n",
    "#a=input(\"enter a number\")\n",
    "#b=input(\"enter a number\")\n",
    "#c=input(\"enter a number\")\n",
    "\n",
    "#a = -b/a\n",
    "#b = c/a\n",
    "\n",
    "#print(a,b)"
   ]
  },
  {
   "cell_type": "code",
   "execution_count": 8,
   "id": "e26db839-e251-47f0-805e-09d2a1544d43",
   "metadata": {},
   "outputs": [
    {
     "name": "stdout",
     "output_type": "stream",
     "text": [
      "after swaping a 8\n",
      "after swaping b 5\n"
     ]
    }
   ],
   "source": [
    "#.5.Write a Python program to swap two variables without temp variable?\n",
    "\n",
    "a = 5\n",
    "b = 8\n",
    "a,b = b,a\n",
    "print(\"after swaping a\", a )\n",
    "print(\"after swaping b\", b)\n"
   ]
  }
 ],
 "metadata": {
  "kernelspec": {
   "display_name": "Python 3 (ipykernel)",
   "language": "python",
   "name": "python3"
  },
  "language_info": {
   "codemirror_mode": {
    "name": "ipython",
    "version": 3
   },
   "file_extension": ".py",
   "mimetype": "text/x-python",
   "name": "python",
   "nbconvert_exporter": "python",
   "pygments_lexer": "ipython3",
   "version": "3.10.6"
  }
 },
 "nbformat": 4,
 "nbformat_minor": 5
}
