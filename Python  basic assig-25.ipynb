{
 "cells": [
  {
   "cell_type": "raw",
   "id": "bc9f7fcb",
   "metadata": {},
   "source": [
    "1) . What is the difference between enclosing a list comprehension in square brackets and\n",
    "parentheses?\n",
    "2) What is the relationship between generators and iterators?\n",
    "3) What are the signs that a function is a generator function?\n",
    "4) What is the purpose of a yield statement?\n",
    "5) What is the relationship between map calls and list comprehensions? Make a comparison and\n",
    "contrast between the two."
   ]
  },
  {
   "cell_type": "code",
   "execution_count": 4,
   "id": "57bd5496",
   "metadata": {},
   "outputs": [
    {
     "data": {
      "text/plain": [
       "[0, 1, 2, 3, 4]"
      ]
     },
     "execution_count": 4,
     "metadata": {},
     "output_type": "execute_result"
    }
   ],
   "source": [
    "lis = [i for i in  range(5)]\n",
    "lis \n",
    "# list comprehesnhion  with square brackets product listhen\n",
    "#If you are familiar with list comprehensions, then this look likes it might create a tuple which is (1,2,3,4,....), \n",
    "\n",
    "\n",
    "# list comprehension with parenthess create generators\n",
    "#but it is actually a generator expression - this expression is a one time only iterator which will yield the values 1, 2,\n"
   ]
  },
  {
   "cell_type": "code",
   "execution_count": 8,
   "id": "33036628",
   "metadata": {},
   "outputs": [
    {
     "data": {
      "text/plain": [
       "<generator object <genexpr> at 0x000002A3B3D46CF0>"
      ]
     },
     "execution_count": 8,
     "metadata": {},
     "output_type": "execute_result"
    }
   ],
   "source": [
    "lstparanthesis = (i for i in range(10))\n",
    "lstparanthesis"
   ]
  },
  {
   "cell_type": "code",
   "execution_count": 9,
   "id": "b092362a",
   "metadata": {},
   "outputs": [
    {
     "name": "stdout",
     "output_type": "stream",
     "text": [
      "0\n",
      "1\n",
      "2\n",
      "3\n",
      "4\n",
      "5\n",
      "6\n",
      "7\n",
      "8\n",
      "9\n"
     ]
    }
   ],
   "source": [
    "for i in lstparanthesis:\n",
    "    print(i)"
   ]
  },
  {
   "cell_type": "raw",
   "id": "dbff5adb",
   "metadata": {},
   "source": [
    "Ans - an itertor is an object which contains a countable number of values and it is  used to iterated over iterable object list list ,tuples ,set \n",
    "using iter function -iter() keyword for create an iterable object to iterator object\n",
    "GENERATOR \n",
    "ANS - It is another way to create iterator in simple way where it used the keyword \"yield\" insted of RETURN it in a defiend function generator are implemeneted using a function here,the yeild function returns the data without affection or exciteing the function,it will convert by using next() function we can iterate the output og generator function"
   ]
  },
  {
   "cell_type": "code",
   "execution_count": 10,
   "id": "073c3fd2",
   "metadata": {},
   "outputs": [
    {
     "name": "stdout",
     "output_type": "stream",
     "text": [
      "sam\n",
      "ram\n",
      "Bro\n"
     ]
    }
   ],
   "source": [
    "#iterator\n",
    "iter_list = iter(['sam', 'ram', 'Bro'])\n",
    "print(next(iter_list))\n",
    "print(next(iter_list))\n",
    "print(next(iter_list))"
   ]
  },
  {
   "cell_type": "code",
   "execution_count": 11,
   "id": "8ca9efe9",
   "metadata": {},
   "outputs": [],
   "source": [
    "# GEnerator \n",
    "\n",
    "def sq(n):\n",
    "    for i in range(1, n+1):\n",
    "        yield i*i"
   ]
  },
  {
   "cell_type": "code",
   "execution_count": 12,
   "id": "481f0bf3",
   "metadata": {},
   "outputs": [
    {
     "data": {
      "text/plain": [
       "<generator object sq at 0x000002A3B3CDB2E0>"
      ]
     },
     "execution_count": 12,
     "metadata": {},
     "output_type": "execute_result"
    }
   ],
   "source": [
    "sq(8)"
   ]
  },
  {
   "cell_type": "code",
   "execution_count": 14,
   "id": "ed3117de",
   "metadata": {},
   "outputs": [
    {
     "name": "stdout",
     "output_type": "stream",
     "text": [
      "1\n",
      "4\n",
      "9\n",
      "16\n",
      "25\n",
      "36\n",
      "49\n",
      "64\n"
     ]
    }
   ],
   "source": [
    "lst = sq(8)\n",
    "for i in lst:\n",
    "    print(i)"
   ]
  },
  {
   "cell_type": "code",
   "execution_count": 16,
   "id": "a0582792",
   "metadata": {},
   "outputs": [],
   "source": [
    "#or print(next(lst))"
   ]
  },
  {
   "cell_type": "markdown",
   "id": "2627aa93",
   "metadata": {},
   "source": [
    "#### Ans. If a function contains at least one yield statement (it may contain other yield or return statements), it becomes a generator function. Both yield and return will return some value from a function"
   ]
  },
  {
   "cell_type": "markdown",
   "id": "03251f14",
   "metadata": {},
   "source": [
    "##### Ans. A yield statement looks much like a return statement, except that instead of stopping execution of the function and returning, yield instead provides a value to the code looping over the generator and pauses execution of the generator function"
   ]
  },
  {
   "cell_type": "markdown",
   "id": "2781bd3f",
   "metadata": {},
   "source": [
    "# 5) What is the relationship between map calls and list comprehensions? Make a comparison and"
   ]
  },
  {
   "cell_type": "raw",
   "id": "515ddb33",
   "metadata": {},
   "source": [
    "Ans.\n",
    "\n",
    "Map function:\n",
    "Suppose we have a function and we want to compute this function for different values in a single line of code . This is where map() function plays its role. map() function returns a map object(which is an iterator) of the results after applying the given function to each item of a given iterable (list, tuple etc.)\n",
    "\n",
    "If we already have a function defined, it is often good to use map For example, map(sum, myLists) is more neat than [sum(x) for x in myLists]. You gain the elegance of not having to make up a dummy variable (e.g. sum(x) for x... or sum(_) for _... or sum(readableName) for readableName...) which you have to type twice, just to iterate.\n",
    "\n",
    "List Comprehension:\n",
    "\n",
    "List Comprehension is a substitute for the lambda function, map(), filter() and reduce()\n",
    "\n",
    "Comparision :\n",
    "List comprehension is more concise and easier to read as compared to map\n",
    "List comprehension allows filtering. In map, we have no such facility\n",
    "For example, to print all even numbers in range of 100, we can write [n for n in range(100) if n%2 == 0]. There is no alternate for it in map 3. List comprehension are used when a list of results is required, where as map only returns a map object and does not return any list. 4. List comprehension is faster than map when we need to evaluate expressions that are too long or complicated to express 5. Map is faster in case of calling an already defined function (as no lambda is required)"
   ]
  },
  {
   "cell_type": "code",
   "execution_count": null,
   "id": "bbd47bc9",
   "metadata": {},
   "outputs": [],
   "source": []
  }
 ],
 "metadata": {
  "kernelspec": {
   "display_name": "Python 3 (ipykernel)",
   "language": "python",
   "name": "python3"
  },
  "language_info": {
   "codemirror_mode": {
    "name": "ipython",
    "version": 3
   },
   "file_extension": ".py",
   "mimetype": "text/x-python",
   "name": "python",
   "nbconvert_exporter": "python",
   "pygments_lexer": "ipython3",
   "version": "3.9.13"
  }
 },
 "nbformat": 4,
 "nbformat_minor": 5
}
